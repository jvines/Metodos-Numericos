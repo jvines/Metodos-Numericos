{
 "cells": [
  {
   "cell_type": "markdown",
   "metadata": {},
   "source": [
    "# How to Python -- An introduction to variables"
   ]
  },
  {
   "cell_type": "markdown",
   "metadata": {},
   "source": [
    "## Resumen rapido de python -- lo mas basico:"
   ]
  },
  {
   "cell_type": "markdown",
   "metadata": {},
   "source": [
    "Python es un lenguaje de programacion de alto nivel orientado a objetos (OOP).\n",
    "### Que puede hacer python?\n",
    "- Se puede usar en servidores para crear aplicaciones\n",
    "- Se puede usar para conectar sistemas de bases de datos\n",
    "- Es muy util para crear prototipos rapidos\n",
    "- Es capaz de manejar grandes volumenes de datos\n",
    "- Es capaz de llevar a cabo matematica compleja, y por lo tanto es tremendamente util para hacer ciencia"
   ]
  },
  {
   "cell_type": "markdown",
   "metadata": {},
   "source": [
    "### Por que usar python?\n",
    "- Python funciona en casi todas las plataformas (Windows, OS X, Linux, etc)\n",
    "- Python tiene una sintaxis increiblemente sencilla sin necesidad de declarar tipos ni de terminar lineas con ;\n",
    "- Python es un lenguaje interpretado, por lo tanto no es necesario compilar programas para correrlos\n",
    "- A pesar de ser un lenguaje OOP, se puede utilizar como lenguaje funcional o como un lenguaje de procedimientos (procedural languaje)"
   ]
  },
  {
   "cell_type": "markdown",
   "metadata": {},
   "source": [
    "# Basic of Python"
   ]
  },
  {
   "cell_type": "markdown",
   "metadata": {},
   "source": [
    "## Variables\n",
    "- Una variable es un espacio de memoria en el computador que guarda un dato"
   ]
  },
  {
   "cell_type": "markdown",
   "metadata": {},
   "source": [
    "### Tipos de variables:\n",
    "- Numericas (int, float, complex), texto (str), boolean (bool)\n",
    "- Los int, float o complex pueden ser cualquier numero, la diferencia es que los int son numeros enteros y los float no necesariamente\n",
    "- Los string pueden ser cualquier cadena de texto, siempre encerrada entre comillas simples o dobles\n",
    "- Los bool son True o False"
   ]
  },
  {
   "cell_type": "markdown",
   "metadata": {},
   "source": [
    "### Como se escriben?\n",
    "Las variables llevan un nombre y un valor, este valor se asigna con el signo ="
   ]
  },
  {
   "cell_type": "markdown",
   "metadata": {},
   "source": [
    "## Ejemplos"
   ]
  },
  {
   "cell_type": "code",
   "execution_count": 1,
   "metadata": {},
   "outputs": [],
   "source": [
    "variable_1 = 1\n",
    "variable_2 = 'Hello, world!'\n",
    "variable_3 = True"
   ]
  },
  {
   "cell_type": "markdown",
   "metadata": {},
   "source": [
    "A diferencia de otros lenguajes, no hubo que especificar que tipo de variable seria cada una. El interprete lo hace automaticamente."
   ]
  },
  {
   "cell_type": "markdown",
   "metadata": {},
   "source": [
    "### Nombres de variables:\n",
    "- El nombre de una variable debe empezar con una letra o con un guion bajo (_), pero NUNCA con un numero\n",
    "- El nombre de una variable solo puede contener caracteres alfa-numericos o guiones bajos\n",
    "- Los nombres de variables reconocen mayusculas (hola != HoLa)"
   ]
  },
  {
   "cell_type": "markdown",
   "metadata": {},
   "source": [
    "## Operadores\n",
    "Para realizar calculos matematicos complejos primero se debe poder realizar calculos simples\n",
    "- suma ( + ), resta ( - ), multiplicacion ( * ), division ( / )"
   ]
  },
  {
   "cell_type": "markdown",
   "metadata": {},
   "source": [
    "## Ejemplos"
   ]
  },
  {
   "cell_type": "code",
   "execution_count": 2,
   "metadata": {
    "scrolled": true
   },
   "outputs": [],
   "source": [
    "print(2 + 2)\n",
    "print(2 - 2)\n",
    "print(2 * 2)\n",
    "print(2 / 2)"
   ]
  },
  {
   "cell_type": "markdown",
   "metadata": {},
   "source": [
    "Tambien se pueden realizar operaciones mas complejas como potencia ( ** ), division entera ( // ) y modulo ( % )"
   ]
  },
  {
   "cell_type": "markdown",
   "metadata": {},
   "source": [
    "## Ejemplos"
   ]
  },
  {
   "cell_type": "code",
   "execution_count": 3,
   "metadata": {},
   "outputs": [],
   "source": [
    "print(2 ** 3)\n",
    "print(3 // 2)\n",
    "print(6 % 3)"
   ]
  },
  {
   "cell_type": "markdown",
   "metadata": {},
   "source": [
    "## Operadores booleanos:\n",
    "- and : retorna True si se comparan dos booleanos True\n",
    "- or : retorna True si al menos uno de los booleanos comparados es True\n",
    "- not : invierte el booleano\n",
    "- == : retorna True si dos objetos son iguales\n",
    "- != : retorna True si dos objetos no son iguales\n",
    "- a < b : retorna True si a es menor que b\n",
    "- a <= b : retorna True si a es menor o igual que b\n",
    "- a > b : retorna True si a es mayor que b\n",
    "- a >= b : retorna True si a es mayor o igual que b"
   ]
  },
  {
   "cell_type": "markdown",
   "metadata": {},
   "source": [
    "## Ejemplos:"
   ]
  },
  {
   "cell_type": "code",
   "execution_count": 4,
   "metadata": {},
   "outputs": [
    {
     "name": "stdout",
     "output_type": "stream",
     "text": [
      "False\n",
      "True\n",
      "True\n",
      "False\n",
      "False\n",
      "True\n"
     ]
    }
   ],
   "source": [
    "print(True and False)\n",
    "print(True and True)\n",
    "print(True or False)\n",
    "print(False or False)\n",
    "print(not True)\n",
    "print(not False)"
   ]
  },
  {
   "cell_type": "markdown",
   "metadata": {},
   "source": [
    "## Operadores de identidad:\n",
    "- is : retorna True si ambas variables son el mismo objeto\n",
    "- is not : retorna False si las variables no son el mismo objeto"
   ]
  },
  {
   "cell_type": "markdown",
   "metadata": {},
   "source": [
    "## Operadores de pertenencia:\n",
    "- in : Retorna True si una secuencia esta presente en un objeto\n",
    "- not in : Retorna True si una secuencia no esta presente en un objeto"
   ]
  },
  {
   "cell_type": "markdown",
   "metadata": {},
   "source": [
    "## Operaciones a nivel de bits:\n",
    "- & bitwise AND\n",
    "- | bitwise OR\n",
    "- ^ bitwise XOR\n",
    "- ~ NOT\n",
    "- << left shift\n",
    "- \\>> right shift"
   ]
  },
  {
   "cell_type": "markdown",
   "metadata": {},
   "source": [
    "## Ejemplos:"
   ]
  },
  {
   "cell_type": "code",
   "execution_count": 5,
   "metadata": {},
   "outputs": [
    {
     "name": "stdout",
     "output_type": "stream",
     "text": [
      "10 en binario: 1010\n",
      " 5 en binario: 0101\n",
      "10 & 5 en binario: 0\n",
      "\n",
      "10 en binario: 1010\n",
      " 5 en binario: 0101\n",
      "10 | 5 en binario: 1111\n",
      "\n",
      "10 en binario: 1010\n",
      " 7 en binario: 0111\n",
      "10 ^ 7 en binario: 1101\n",
      "\n",
      "13 en binario: 1101\n",
      "~13 en binario: -1110\n",
      "\n",
      "10 en binario: 1010\n",
      "10 >> 1 en binario: 101\n",
      "\n",
      "10 en binario: 1010\n",
      "10 << 1 en binario: 10100\n",
      "\n"
     ]
    }
   ],
   "source": [
    "print('10 en binario: {0:b}'.format(10))\n",
    "print(' 5 en binario: 0{0:b}'.format(5))\n",
    "print('10 & 5 en binario: {0:b}'.format(10 & 5), end='\\n\\n')\n",
    "\n",
    "print('10 en binario: {0:b}'.format(10))\n",
    "print(' 5 en binario: 0{0:b}'.format(5))\n",
    "print('10 | 5 en binario: {0:b}'.format(10 | 5), end='\\n\\n')\n",
    "\n",
    "print('10 en binario: {0:b}'.format(10))\n",
    "print(' 7 en binario: 0{0:b}'.format(7))\n",
    "print('10 ^ 7 en binario: {0:b}'.format(10 ^ 7), end='\\n\\n')\n",
    "\n",
    "print('13 en binario: {0:b}'.format(13))\n",
    "print('~13 en binario: {0:b}'.format(~13), end='\\n\\n')\n",
    "\n",
    "print('10 en binario: {0:b}'.format(10))\n",
    "print('10 >> 1 en binario: {0:b}'.format(10 >> 1), end='\\n\\n')\n",
    "\n",
    "print('10 en binario: {0:b}'.format(10))\n",
    "print('10 << 1 en binario: {0:b}'.format(10 << 1), end='\\n\\n')"
   ]
  },
  {
   "cell_type": "markdown",
   "metadata": {},
   "source": [
    "## Operadores de asignacion\n",
    "Los operadores de asignacion se utilizan para asignar valores a las variables, estos son:\n",
    "- Ya vimos el operador = que simplemente asigna un valor a una variable\n",
    "- += toma la variable, le suma otra y reasigna el resultado a la variable original\n",
    "- -= toma la variable, le resta otra y reasigna el resultado a la variable original\n",
    "- \\*= toma la variable, la multiplica por otra y reasigna el resultado a la variable original\n",
    "- /= toma la variable, la divide por otra y reasigna el resultado a la variable original\n",
    "- %= toma la variable, le toma el modulo de otra y reasigna el resultado a la variable original\n",
    "- \\**= toma la variable, la eleva a otra y reasigna el resultado a la variable original\n",
    "- &= toma la variable, le aplica bitwise AND y reasigna el resultado a la variable original\n",
    "- |= toma la variable, le aplica bitwise OR y reasigna el resultado a la variable original\n",
    "- ^= toma la variable, le aplica bitwise XOR y reasigna el resultado a la variable original\n",
    "- \\>>= toma la variable, le aplica un shift a los bits hacia la derecha y reasigna el resultado a la variable original\n",
    "- <<= toma la variable, le aplica un shift a los bits hacia la izquierda y reasigna el resultado a la variable original"
   ]
  },
  {
   "cell_type": "markdown",
   "metadata": {},
   "source": [
    "## Ejemplos:"
   ]
  },
  {
   "cell_type": "code",
   "execution_count": 6,
   "metadata": {},
   "outputs": [
    {
     "name": "stdout",
     "output_type": "stream",
     "text": [
      "5\n",
      "6\n",
      "3\n",
      "6\n",
      "2.0\n",
      "8.0\n"
     ]
    }
   ],
   "source": [
    "x = 5\n",
    "print(x)\n",
    "x += 1\n",
    "print(x)\n",
    "x -= 3\n",
    "print(x)\n",
    "x *= 2\n",
    "print(x)\n",
    "x /= 3\n",
    "print(x)\n",
    "x **= 3\n",
    "print(x)"
   ]
  },
  {
   "cell_type": "markdown",
   "metadata": {},
   "source": [
    "## Colecciones:\n",
    "Las colecciones son objetos que representan un conjunto de objetos. Hay 4 objetos de este tipo nativos de python:\n",
    "- Listas : Colecciones cuyos elementos **estan ordenados** y **son intercambiables**. Se permiten elementos duplicados\n",
    "- Tuplas : Colecciones cuyos elementos **estan ordenados** y **no son intercambiables**. Se permiten elementos duplicados\n",
    "- Set : Colecciones cuyos elementos **no estan ordenados** y **no estan indexados**. No se permiten elementos duplicados\n",
    "- Diccionarios : Colecciones cuyos elementos **no estan ordenados**, **son intercambiables** y **estan indexados**. No se permiten elementos duplicados"
   ]
  },
  {
   "cell_type": "markdown",
   "metadata": {},
   "source": [
    "## Ejemplos:"
   ]
  },
  {
   "cell_type": "code",
   "execution_count": 7,
   "metadata": {},
   "outputs": [
    {
     "name": "stdout",
     "output_type": "stream",
     "text": [
      "[1, 2, 3]\n",
      "(4, 5)\n",
      "{8, 6, 7}\n",
      "{'a': 1}\n"
     ]
    }
   ],
   "source": [
    "l = list([1, 2, 3])\n",
    "t = tuple((4, 5))\n",
    "s = set({6, 7, 8})\n",
    "d = dict({'a': 1})\n",
    "print(l)\n",
    "print(t)\n",
    "print(s)\n",
    "print(d)"
   ]
  },
  {
   "cell_type": "markdown",
   "metadata": {},
   "source": [
    "Los mas usados son las listas, tuplas y diccionarios asi que veremos operaciones basicas con ellos"
   ]
  },
  {
   "cell_type": "markdown",
   "metadata": {},
   "source": [
    "## Acceder a elementos:\n",
    "Para acceder a elementos de una coleccion se utilizan los parentesis cuadrados con el indice en su interior (por ejemplo, `l[3]`)\n",
    "- En el caso de las listas y tuplas, los elementos estan indexados numericamentes tal que el primer elemento es el numero 0\n",
    "- Tambien se puede acceder a los elementos usando numeros negativos. En este caso, el ultimo elemento es el numero -1\n",
    "- Los diccionarios tienen una indexizacion personalizada. Al crear uno se hace `dict({llave: valor})`"
   ]
  },
  {
   "cell_type": "code",
   "execution_count": 8,
   "metadata": {},
   "outputs": [
    {
     "name": "stdout",
     "output_type": "stream",
     "text": [
      "1\n",
      "3\n",
      "5\n",
      "5\n",
      "7\n",
      "8\n"
     ]
    }
   ],
   "source": [
    "l = list([1, 2, 3])\n",
    "print(l[0])\n",
    "print(l[-1])\n",
    "t = tuple((4, 5, 6))\n",
    "print(t[1])\n",
    "print(t[-2])\n",
    "d = dict({'llave1': 7, 'llave2': 8})\n",
    "print(d['llave1'])\n",
    "print(d['llave2'])"
   ]
  },
  {
   "cell_type": "markdown",
   "metadata": {},
   "source": [
    "## Modificacion de elementos:\n",
    "(recuerden que las tuplas no son modificables!)"
   ]
  },
  {
   "cell_type": "code",
   "execution_count": 9,
   "metadata": {},
   "outputs": [
    {
     "name": "stdout",
     "output_type": "stream",
     "text": [
      "4\n",
      "3\n",
      "5\n",
      "4\n"
     ]
    }
   ],
   "source": [
    "l = list([1, 2, 4])\n",
    "print(l[-1])\n",
    "l[-1] = 3\n",
    "print(l[-1])\n",
    "d = dict({'llave1': 5})\n",
    "print(d['llave1'])\n",
    "d['llave1'] = 4\n",
    "print(d['llave1'])"
   ]
  },
  {
   "cell_type": "markdown",
   "metadata": {},
   "source": [
    "## Podemos revisar si un elemento existe dentro de una coleccion:"
   ]
  },
  {
   "cell_type": "code",
   "execution_count": 10,
   "metadata": {},
   "outputs": [
    {
     "name": "stdout",
     "output_type": "stream",
     "text": [
      "True\n",
      "False\n",
      "True\n"
     ]
    }
   ],
   "source": [
    "l = list(['a', 'b', 'c'])\n",
    "print('a' in l)\n",
    "d = dict({'1': 'a', '2': 'b', '3': 'c'})\n",
    "print('b' in d)\n",
    "print('3' in d)"
   ]
  },
  {
   "cell_type": "markdown",
   "metadata": {},
   "source": [
    "**En el caso de los diccionarios, el operador** `in` **solo busca si un elemento existe dentro de las llaves del diccionario, y no dentro de los valores!!**"
   ]
  },
  {
   "cell_type": "markdown",
   "metadata": {},
   "source": [
    "## Podemos encontrar el largo de una coleccion facilmente"
   ]
  },
  {
   "cell_type": "code",
   "execution_count": 11,
   "metadata": {},
   "outputs": [
    {
     "name": "stdout",
     "output_type": "stream",
     "text": [
      "7\n",
      "2\n"
     ]
    }
   ],
   "source": [
    "l = list([1, 2, 3, 4, 5, 6, 7])\n",
    "print(len(l))\n",
    "d = dict({'a': 1, 'b': 2})\n",
    "print(len(d))"
   ]
  },
  {
   "cell_type": "markdown",
   "metadata": {},
   "source": [
    "## Podemos agregar y quitar elementos"
   ]
  },
  {
   "cell_type": "code",
   "execution_count": 12,
   "metadata": {},
   "outputs": [
    {
     "name": "stdout",
     "output_type": "stream",
     "text": [
      "[1, 2, 3, 4]\n",
      "[1, 2, 3, 4, 5]\n",
      "[1, 3, 4]\n",
      "[1, 3, 4]\n",
      "{'a': 1}\n",
      "{'a': 1, 'b': 2}\n",
      "{'a': 1}\n"
     ]
    }
   ],
   "source": [
    "l = list([1, 2, 3, 4])\n",
    "print(l)\n",
    "l.append(5)\n",
    "print(l)\n",
    "l.remove(2)\n",
    "l.pop()\n",
    "print(l)\n",
    "print(l)\n",
    "d = dict({'a': 1})\n",
    "print(d)\n",
    "d['b'] = 2\n",
    "print(d)\n",
    "del d['b']\n",
    "print(d)"
   ]
  },
  {
   "cell_type": "markdown",
   "metadata": {},
   "source": [
    "Hasta ahora las listas, tuplas y diccionarios se han creado usando `list()`, `tuple()`, y `dict()` respectivamente, sin embargo se pueden crear sin usaar estas instrucciones:"
   ]
  },
  {
   "cell_type": "code",
   "execution_count": 13,
   "metadata": {},
   "outputs": [
    {
     "name": "stdout",
     "output_type": "stream",
     "text": [
      "['a', 'b', 'c']\n",
      "(1, 2, 3)\n",
      "{'a': 1, 'b': 2, 'c': 3}\n"
     ]
    }
   ],
   "source": [
    "l = ['a', 'b', 'c']\n",
    "t = (1, 2, 3)\n",
    "d = {'a': 1, 'b': 2, 'c': 3}\n",
    "print(l)\n",
    "print(t)\n",
    "print(d)"
   ]
  }
 ],
 "metadata": {
  "kernelspec": {
   "display_name": "Python 3",
   "language": "python",
   "name": "python3"
  },
  "language_info": {
   "codemirror_mode": {
    "name": "ipython",
    "version": 3
   },
   "file_extension": ".py",
   "mimetype": "text/x-python",
   "name": "python",
   "nbconvert_exporter": "python",
   "pygments_lexer": "ipython3",
   "version": "3.7.1"
  }
 },
 "nbformat": 4,
 "nbformat_minor": 2
}
